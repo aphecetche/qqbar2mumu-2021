{
 "cells": [
  {
   "cell_type": "markdown",
   "metadata": {},
   "source": [
    "# Binning, counting, fitting\n",
    "\n",
    "When size (width) matters..."
   ]
  },
  {
   "cell_type": "code",
   "execution_count": 2,
   "metadata": {},
   "outputs": [],
   "source": [
    "import numpy as np\n",
    "import hist\n",
    "from scipy.optimize import curve_fit\n",
    "import scipy.integrate as integrate\n",
    "import math\n",
    "import matplotlib.pyplot as plt"
   ]
  },
  {
   "cell_type": "markdown",
   "metadata": {},
   "source": [
    "Generate random gaussian invariant mass data, for `N` pairs. So the true number of pairs we'll try to find back is `N`"
   ]
  },
  {
   "cell_type": "code",
   "execution_count": 3,
   "metadata": {},
   "outputs": [
    {
     "data": {
      "text/plain": [
       "(2.991598167948161, 0.19895583696107913)"
      ]
     },
     "execution_count": 3,
     "metadata": {},
     "output_type": "execute_result"
    }
   ],
   "source": [
    "N=1000\n",
    "mu=3\n",
    "sigma=0.2\n",
    "minv = np.random.normal(mu, sigma, N)\n",
    "minv.mean(),math.sqrt(minv.var())"
   ]
  },
  {
   "cell_type": "markdown",
   "metadata": {},
   "source": [
    "Prepare a gaussian function for fitting the data."
   ]
  },
  {
   "cell_type": "code",
   "execution_count": 4,
   "metadata": {},
   "outputs": [],
   "source": [
    "def fit_gaus(x,norm,mean,sigma):\n",
    "    return norm*np.exp(-1*np.square((x-mean)/(2*sigma*sigma)))"
   ]
  },
  {
   "cell_type": "markdown",
   "metadata": {},
   "source": [
    "Like in the real analysis, the data we fit is binned into histograms. Let's use two such histograms, with different binnings..."
   ]
  },
  {
   "cell_type": "code",
   "execution_count": 5,
   "metadata": {},
   "outputs": [
    {
     "data": {
      "text/plain": [
       "(2.0, 4.0)"
      ]
     },
     "execution_count": 5,
     "metadata": {},
     "output_type": "execute_result"
    },
    {
     "data": {
      "image/png": "[encoded data removed]",
      "text/plain": [
       "<Figure size 432x288 with 1 Axes>"
      ]
     },
     "metadata": {
      "needs_background": "light"
     },
     "output_type": "display_data"
    }
   ],
   "source": [
    "hminv1 = hist.Hist(hist.axis.Regular(bins=240,start=0,stop=12))\n",
    "hminv2 = hist.Hist(hist.axis.Regular(bins=120,start=0,stop=12))\n",
    "hminv1.fill(minv)\n",
    "hminv2.fill(minv)\n",
    "hminv1.plot()\n",
    "hminv2.plot()\n",
    "plt.xlim(2,4)"
   ]
  },
  {
   "cell_type": "markdown",
   "metadata": {},
   "source": [
    "Both histograms have, by construction, the name number of entries, which is the number of pairs"
   ]
  },
  {
   "cell_type": "code",
   "execution_count": 7,
   "metadata": {},
   "outputs": [
    {
     "name": "stdout",
     "output_type": "stream",
     "text": [
      "1000.0 1000.0\n"
     ]
    }
   ],
   "source": [
    "print(f\"{hminv1.counts().sum()} {hminv2.counts().sum()}\")"
   ]
  },
  {
   "cell_type": "markdown",
   "metadata": {},
   "source": [
    "Even if in this simple case (only signal), we don't strictly need to fit (we already have the number of pairs by counting the number of entries), we should be able to fit and get the same result, shouldn't we ? So let's try."
   ]
  },
  {
   "cell_type": "code",
   "execution_count": 8,
   "metadata": {},
   "outputs": [
    {
     "data": {
      "text/plain": [
       "(array([103.11003403,   2.99223351,  -0.36748997]),\n",
       " array([205.84931338,   2.99066006,   0.36749737]))"
      ]
     },
     "execution_count": 8,
     "metadata": {},
     "output_type": "execute_result"
    }
   ],
   "source": [
    "g1, _ = curve_fit(fit_gaus,\n",
    "        xdata=hminv1.axes[0].centers,\n",
    "        ydata=hminv1.values())\n",
    "g2, _ = curve_fit(fit_gaus,\n",
    "        xdata=hminv2.axes[0].centers,\n",
    "        ydata=hminv2.values())\n",
    "g1,g2"
   ]
  },
  {
   "cell_type": "markdown",
   "metadata": {},
   "source": [
    "Let's integrate the fitted function..."
   ]
  },
  {
   "cell_type": "code",
   "execution_count": 9,
   "metadata": {},
   "outputs": [
    {
     "name": "stdout",
     "output_type": "stream",
     "text": [
      "49.362465418736946 98.55140740963284\n"
     ]
    }
   ],
   "source": [
    "i1=integrate.quad(lambda x: fit_gaus(x,*g1),0,12)\n",
    "i2=integrate.quad(lambda x: fit_gaus(x,*g2),0,12)\n",
    "print(i1[0],i2[0])"
   ]
  },
  {
   "cell_type": "markdown",
   "metadata": {},
   "source": [
    "Hum... Not quite the number of pairs... But if we take the binning into account, we'll get back our right number of pairs : "
   ]
  },
  {
   "cell_type": "code",
   "execution_count": 10,
   "metadata": {},
   "outputs": [
    {
     "name": "stdout",
     "output_type": "stream",
     "text": [
      "987.2493083747389 985.5140740963284\n"
     ]
    }
   ],
   "source": [
    "print(i1[0]/hminv1.axes[0].widths[0],i2[0]/hminv2.axes[0].widths[0])"
   ]
  },
  {
   "cell_type": "code",
   "execution_count": null,
   "metadata": {},
   "outputs": [],
   "source": []
  }
 ],
 "metadata": {
  "kernelspec": {
   "display_name": "Python 3 (ipykernel)",
   "language": "python",
   "name": "python3"
  },
  "language_info": {
   "codemirror_mode": {
    "name": "ipython",
    "version": 3
   },
   "file_extension": ".py",
   "mimetype": "text/x-python",
   "name": "python",
   "nbconvert_exporter": "python",
   "pygments_lexer": "ipython3",
   "version": "3.8.12"
  },
  "orig_nbformat": 4
 },
 "nbformat": 4,
 "nbformat_minor": 2
}
